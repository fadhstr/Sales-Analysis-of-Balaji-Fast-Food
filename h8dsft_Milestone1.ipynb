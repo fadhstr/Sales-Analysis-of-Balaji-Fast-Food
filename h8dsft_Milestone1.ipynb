{
 "cells": [
  {
   "cell_type": "markdown",
   "metadata": {},
   "source": [
    "**Link Dashboard** - Sales Analysis of Balaji Fast Food | Fadhilah:\n",
    "\n",
    "https://public.tableau.com/views/Milestone1_17074074922240/SalesAnalysisofBalajiFastFood?:language=en-US&:display_count=n&:origin=viz_share_link"
   ]
  },
  {
   "cell_type": "markdown",
   "metadata": {},
   "source": [
    "# Perkenalan  \n",
    "Nama    : Fadhilah  \n",
    "Batch   : HCK-13"
   ]
  },
  {
   "cell_type": "markdown",
   "metadata": {},
   "source": [
    "# Identifikasi Masalah"
   ]
  },
  {
   "cell_type": "code",
   "execution_count": 114,
   "metadata": {},
   "outputs": [
    {
     "data": {
      "text/plain": [
       "'\\n=================================================\\nMilestone 1\\n\\nNama  : Fadhilah\\nBatch : HCK-13\\n\\nProgram ini dibuat untuk membuat problem statement menggunakan SMART framework dan melakukan penjabaran masalah berdasarkan 5W + 1H\\n=================================================\\n'"
      ]
     },
     "execution_count": 114,
     "metadata": {},
     "output_type": "execute_result"
    }
   ],
   "source": [
    "'''\n",
    "=================================================\n",
    "Milestone 1\n",
    "\n",
    "Nama  : Fadhilah\n",
    "Batch : HCK-13\n",
    "\n",
    "Program ini dibuat untuk membuat problem statement menggunakan SMART framework dan melakukan penjabaran masalah berdasarkan 5W + 1H\n",
    "=================================================\n",
    "'''"
   ]
  },
  {
   "cell_type": "markdown",
   "metadata": {},
   "source": [
    "Topik permasalahan: Menganalisa penjualan di Balaji Fast Food yang bertujuan untuk mengambil keputusan oleh manager restoran guna memaksimalkan keuntungan"
   ]
  },
  {
   "cell_type": "markdown",
   "metadata": {},
   "source": [
    "SMART"
   ]
  },
  {
   "cell_type": "markdown",
   "metadata": {},
   "source": [
    "Specific : Seorang manager restoran fastfood ingin memaksimalkan take profit berdasarkan dari menu dan membuat promosi berdasarkan waktu pengunjung\n",
    "\n",
    "Measurable : Persentase pertumbuhan laba sebesar 10% - 15%\n",
    "\n",
    "Achievable : Peningkatkan pertumbuhan laba sebesar 10% dapat dicapai\n",
    "\n",
    "Relevant : Relevant, karena menu yang terjual lebih banyak dapat divariasikan harganya dan membuat promosi pada menu yang kurang minat pelanggan pada waktu penggunjung yang sepi\n",
    "\n",
    "Time-bound : Sasarannya ditetapkan untuk 3 bulan kedepan"
   ]
  },
  {
   "cell_type": "markdown",
   "metadata": {},
   "source": [
    "Problem Statement : Meningkatkan profit dari penjualan berdasarkan menu yang terlaris dan membuat promosi berdasarkan waktu pengunjung  dengan sasaran yang ditetapkan selama 3 bulan"
   ]
  },
  {
   "cell_type": "markdown",
   "metadata": {},
   "source": [
    "Latar Belakang : Sebuah restoran yang bernama Balaji Fast Food ingin meningkatkan profit, sehingga manager ingin melakukan modifikasi pada menu yang banyak terjual dengan membuat menu lebih variatif dan melakukan promosi pada waktu sepi pengunjung\n"
   ]
  },
  {
   "cell_type": "markdown",
   "metadata": {},
   "source": [
    "Penjabaran masalah dengan metode 5W + 1H:"
   ]
  },
  {
   "cell_type": "markdown",
   "metadata": {},
   "source": [
    "- Menu manakah paling banyak terjual?  \n",
    "- Kapan transaksi sering terjadi?\n",
    "- Berapa rata-rata peghasilan terbesar berdasarkan waktu pengunjung?\n",
    "- Gender manakah yang paling sedikit kuantitas pembeliannya berdasarkan waktu pengunjungnya?\n",
    "- Apakah konsumen lebih menyukai produk murah?\n",
    "- Apakah ada perbedaan tipe item makanan berdasarkan banyak terjualnya?\n",
    "\n",
    "\n"
   ]
  },
  {
   "cell_type": "markdown",
   "metadata": {},
   "source": [
    "# Data Loading"
   ]
  },
  {
   "cell_type": "code",
   "execution_count": 115,
   "metadata": {},
   "outputs": [
    {
     "data": {
      "text/plain": [
       "'\\n=================================================\\nMilestone 1\\n\\nNama  : Fadhilah\\nBatch : HCK-13\\n\\nProgram ini dibuat untuk melakukan eksplorasi data\\n=================================================\\n'"
      ]
     },
     "execution_count": 115,
     "metadata": {},
     "output_type": "execute_result"
    }
   ],
   "source": [
    "'''\n",
    "=================================================\n",
    "Milestone 1\n",
    "\n",
    "Nama  : Fadhilah\n",
    "Batch : HCK-13\n",
    "\n",
    "Program ini dibuat untuk melakukan eksplorasi data\n",
    "=================================================\n",
    "'''"
   ]
  },
  {
   "cell_type": "code",
   "execution_count": 116,
   "metadata": {},
   "outputs": [],
   "source": [
    "import pandas as pd\n",
    "import matplotlib.pyplot as plt\n",
    "import seaborn as sns\n"
   ]
  },
  {
   "cell_type": "code",
   "execution_count": 117,
   "metadata": {},
   "outputs": [
    {
     "data": {
      "text/html": [
       "<div>\n",
       "<style scoped>\n",
       "    .dataframe tbody tr th:only-of-type {\n",
       "        vertical-align: middle;\n",
       "    }\n",
       "\n",
       "    .dataframe tbody tr th {\n",
       "        vertical-align: top;\n",
       "    }\n",
       "\n",
       "    .dataframe thead th {\n",
       "        text-align: right;\n",
       "    }\n",
       "</style>\n",
       "<table border=\"1\" class=\"dataframe\">\n",
       "  <thead>\n",
       "    <tr style=\"text-align: right;\">\n",
       "      <th></th>\n",
       "      <th>order_id</th>\n",
       "      <th>date</th>\n",
       "      <th>item_name</th>\n",
       "      <th>item_type</th>\n",
       "      <th>item_price</th>\n",
       "      <th>quantity</th>\n",
       "      <th>transaction_amount</th>\n",
       "      <th>transaction_type</th>\n",
       "      <th>received_by</th>\n",
       "      <th>time_of_sale</th>\n",
       "    </tr>\n",
       "  </thead>\n",
       "  <tbody>\n",
       "    <tr>\n",
       "      <th>0</th>\n",
       "      <td>1</td>\n",
       "      <td>07-03-2022</td>\n",
       "      <td>Aalopuri</td>\n",
       "      <td>Fastfood</td>\n",
       "      <td>20</td>\n",
       "      <td>13</td>\n",
       "      <td>260</td>\n",
       "      <td>NaN</td>\n",
       "      <td>Mr.</td>\n",
       "      <td>Night</td>\n",
       "    </tr>\n",
       "    <tr>\n",
       "      <th>1</th>\n",
       "      <td>2</td>\n",
       "      <td>8/23/2022</td>\n",
       "      <td>Vadapav</td>\n",
       "      <td>Fastfood</td>\n",
       "      <td>20</td>\n",
       "      <td>15</td>\n",
       "      <td>300</td>\n",
       "      <td>Cash</td>\n",
       "      <td>Mr.</td>\n",
       "      <td>Afternoon</td>\n",
       "    </tr>\n",
       "    <tr>\n",
       "      <th>2</th>\n",
       "      <td>3</td>\n",
       "      <td>11/20/2022</td>\n",
       "      <td>Vadapav</td>\n",
       "      <td>Fastfood</td>\n",
       "      <td>20</td>\n",
       "      <td>1</td>\n",
       "      <td>20</td>\n",
       "      <td>Cash</td>\n",
       "      <td>Mr.</td>\n",
       "      <td>Afternoon</td>\n",
       "    </tr>\n",
       "    <tr>\n",
       "      <th>3</th>\n",
       "      <td>4</td>\n",
       "      <td>02-03-2023</td>\n",
       "      <td>Sugarcane juice</td>\n",
       "      <td>Beverages</td>\n",
       "      <td>25</td>\n",
       "      <td>6</td>\n",
       "      <td>150</td>\n",
       "      <td>Online</td>\n",
       "      <td>Mr.</td>\n",
       "      <td>Night</td>\n",
       "    </tr>\n",
       "    <tr>\n",
       "      <th>4</th>\n",
       "      <td>5</td>\n",
       "      <td>10-02-2022</td>\n",
       "      <td>Sugarcane juice</td>\n",
       "      <td>Beverages</td>\n",
       "      <td>25</td>\n",
       "      <td>8</td>\n",
       "      <td>200</td>\n",
       "      <td>Online</td>\n",
       "      <td>Mr.</td>\n",
       "      <td>Evening</td>\n",
       "    </tr>\n",
       "    <tr>\n",
       "      <th>...</th>\n",
       "      <td>...</td>\n",
       "      <td>...</td>\n",
       "      <td>...</td>\n",
       "      <td>...</td>\n",
       "      <td>...</td>\n",
       "      <td>...</td>\n",
       "      <td>...</td>\n",
       "      <td>...</td>\n",
       "      <td>...</td>\n",
       "      <td>...</td>\n",
       "    </tr>\n",
       "    <tr>\n",
       "      <th>995</th>\n",
       "      <td>996</td>\n",
       "      <td>3/19/2023</td>\n",
       "      <td>Frankie</td>\n",
       "      <td>Fastfood</td>\n",
       "      <td>50</td>\n",
       "      <td>10</td>\n",
       "      <td>500</td>\n",
       "      <td>NaN</td>\n",
       "      <td>Mrs.</td>\n",
       "      <td>Evening</td>\n",
       "    </tr>\n",
       "    <tr>\n",
       "      <th>996</th>\n",
       "      <td>997</td>\n",
       "      <td>9/20/2022</td>\n",
       "      <td>Sandwich</td>\n",
       "      <td>Fastfood</td>\n",
       "      <td>60</td>\n",
       "      <td>7</td>\n",
       "      <td>420</td>\n",
       "      <td>NaN</td>\n",
       "      <td>Mr.</td>\n",
       "      <td>Evening</td>\n",
       "    </tr>\n",
       "    <tr>\n",
       "      <th>997</th>\n",
       "      <td>998</td>\n",
       "      <td>1/26/2023</td>\n",
       "      <td>Sandwich</td>\n",
       "      <td>Fastfood</td>\n",
       "      <td>60</td>\n",
       "      <td>13</td>\n",
       "      <td>780</td>\n",
       "      <td>NaN</td>\n",
       "      <td>Mr.</td>\n",
       "      <td>Evening</td>\n",
       "    </tr>\n",
       "    <tr>\n",
       "      <th>998</th>\n",
       "      <td>999</td>\n",
       "      <td>8/27/2022</td>\n",
       "      <td>Panipuri</td>\n",
       "      <td>Fastfood</td>\n",
       "      <td>20</td>\n",
       "      <td>5</td>\n",
       "      <td>100</td>\n",
       "      <td>NaN</td>\n",
       "      <td>Mrs.</td>\n",
       "      <td>Afternoon</td>\n",
       "    </tr>\n",
       "    <tr>\n",
       "      <th>999</th>\n",
       "      <td>1000</td>\n",
       "      <td>5/29/2022</td>\n",
       "      <td>Aalopuri</td>\n",
       "      <td>Fastfood</td>\n",
       "      <td>20</td>\n",
       "      <td>3</td>\n",
       "      <td>60</td>\n",
       "      <td>Online</td>\n",
       "      <td>Mrs.</td>\n",
       "      <td>Midnight</td>\n",
       "    </tr>\n",
       "  </tbody>\n",
       "</table>\n",
       "<p>1000 rows × 10 columns</p>\n",
       "</div>"
      ],
      "text/plain": [
       "     order_id        date        item_name  item_type  item_price  quantity  \\\n",
       "0           1  07-03-2022         Aalopuri   Fastfood          20        13   \n",
       "1           2   8/23/2022          Vadapav   Fastfood          20        15   \n",
       "2           3  11/20/2022          Vadapav   Fastfood          20         1   \n",
       "3           4  02-03-2023  Sugarcane juice  Beverages          25         6   \n",
       "4           5  10-02-2022  Sugarcane juice  Beverages          25         8   \n",
       "..        ...         ...              ...        ...         ...       ...   \n",
       "995       996   3/19/2023          Frankie   Fastfood          50        10   \n",
       "996       997   9/20/2022         Sandwich   Fastfood          60         7   \n",
       "997       998   1/26/2023         Sandwich   Fastfood          60        13   \n",
       "998       999   8/27/2022         Panipuri   Fastfood          20         5   \n",
       "999      1000   5/29/2022         Aalopuri   Fastfood          20         3   \n",
       "\n",
       "     transaction_amount transaction_type received_by time_of_sale  \n",
       "0                   260              NaN         Mr.        Night  \n",
       "1                   300             Cash         Mr.    Afternoon  \n",
       "2                    20             Cash         Mr.    Afternoon  \n",
       "3                   150           Online         Mr.        Night  \n",
       "4                   200           Online         Mr.      Evening  \n",
       "..                  ...              ...         ...          ...  \n",
       "995                 500              NaN        Mrs.      Evening  \n",
       "996                 420              NaN         Mr.      Evening  \n",
       "997                 780              NaN         Mr.      Evening  \n",
       "998                 100              NaN        Mrs.    Afternoon  \n",
       "999                  60           Online        Mrs.     Midnight  \n",
       "\n",
       "[1000 rows x 10 columns]"
      ]
     },
     "execution_count": 117,
     "metadata": {},
     "output_type": "execute_result"
    }
   ],
   "source": [
    "# Mengimport tabel csv ke pandas \n",
    "\n",
    "data = pd.read_csv(\"Balaji Fast Food Sales.csv\")\n",
    "data"
   ]
  },
  {
   "cell_type": "code",
   "execution_count": 118,
   "metadata": {},
   "outputs": [
    {
     "name": "stdout",
     "output_type": "stream",
     "text": [
      "<class 'pandas.core.frame.DataFrame'>\n",
      "RangeIndex: 1000 entries, 0 to 999\n",
      "Data columns (total 10 columns):\n",
      " #   Column              Non-Null Count  Dtype \n",
      "---  ------              --------------  ----- \n",
      " 0   order_id            1000 non-null   int64 \n",
      " 1   date                1000 non-null   object\n",
      " 2   item_name           1000 non-null   object\n",
      " 3   item_type           1000 non-null   object\n",
      " 4   item_price          1000 non-null   int64 \n",
      " 5   quantity            1000 non-null   int64 \n",
      " 6   transaction_amount  1000 non-null   int64 \n",
      " 7   transaction_type    893 non-null    object\n",
      " 8   received_by         1000 non-null   object\n",
      " 9   time_of_sale        1000 non-null   object\n",
      "dtypes: int64(4), object(6)\n",
      "memory usage: 78.3+ KB\n"
     ]
    }
   ],
   "source": [
    "# Melihat tipe data tiap kolom dan melihat value none dan null pada tiap kolom\n",
    "data.info()"
   ]
  },
  {
   "cell_type": "code",
   "execution_count": 119,
   "metadata": {},
   "outputs": [
    {
     "data": {
      "text/plain": [
       "array(['Aalopuri', 'Vadapav', 'Sugarcane juice', 'Panipuri', 'Frankie',\n",
       "       'Sandwich', 'Cold coffee'], dtype=object)"
      ]
     },
     "execution_count": 119,
     "metadata": {},
     "output_type": "execute_result"
    }
   ],
   "source": [
    "# Melihat value unique pada kolom item_name\n",
    "data['item_name'].unique()"
   ]
  },
  {
   "cell_type": "code",
   "execution_count": 120,
   "metadata": {},
   "outputs": [
    {
     "data": {
      "text/plain": [
       "array(['Fastfood', 'Beverages'], dtype=object)"
      ]
     },
     "execution_count": 120,
     "metadata": {},
     "output_type": "execute_result"
    }
   ],
   "source": [
    "# Melihat value unique pada kolom item_type\n",
    "data['item_type'].unique()"
   ]
  },
  {
   "cell_type": "code",
   "execution_count": 121,
   "metadata": {},
   "outputs": [
    {
     "data": {
      "text/plain": [
       "array([20, 25, 50, 60, 40], dtype=int64)"
      ]
     },
     "execution_count": 121,
     "metadata": {},
     "output_type": "execute_result"
    }
   ],
   "source": [
    "# Melihat value unique pada kolom item_price\n",
    "data['item_price'].unique()"
   ]
  },
  {
   "cell_type": "code",
   "execution_count": 122,
   "metadata": {},
   "outputs": [
    {
     "data": {
      "text/plain": [
       "array(['Night', 'Afternoon', 'Evening', 'Morning', 'Midnight'],\n",
       "      dtype=object)"
      ]
     },
     "execution_count": 122,
     "metadata": {},
     "output_type": "execute_result"
    }
   ],
   "source": [
    "# Melihat value unique pada kolom time_of_sale\n",
    "data['time_of_sale'].unique()"
   ]
  },
  {
   "cell_type": "markdown",
   "metadata": {},
   "source": [
    "# Data Cleaning"
   ]
  },
  {
   "cell_type": "code",
   "execution_count": 123,
   "metadata": {},
   "outputs": [
    {
     "data": {
      "text/plain": [
       "'\\n=================================================\\nMilestone 1\\n\\nNama  : Fadhilah\\nBatch : HCK-13\\n\\nProgram ini dibuat untuk melakukan cleaning data dengan menghapus kolom, mengubah tipe data, dan mengubah/menghapus karakter khusus pada value\\n=================================================\\n'"
      ]
     },
     "execution_count": 123,
     "metadata": {},
     "output_type": "execute_result"
    }
   ],
   "source": [
    "'''\n",
    "=================================================\n",
    "Milestone 1\n",
    "\n",
    "Nama  : Fadhilah\n",
    "Batch : HCK-13\n",
    "\n",
    "Program ini dibuat untuk melakukan cleaning data dengan menghapus kolom, mengubah tipe data, dan mengubah/menghapus karakter khusus pada value\n",
    "=================================================\n",
    "'''"
   ]
  },
  {
   "cell_type": "code",
   "execution_count": 124,
   "metadata": {},
   "outputs": [],
   "source": [
    "# Melakukan drop pada kolom transaction_type, karena kolom pada tabel ini tidak berkesinambungan terhadap studi kasus\n",
    "data.drop(columns = 'transaction_type', inplace= True)"
   ]
  },
  {
   "cell_type": "code",
   "execution_count": 125,
   "metadata": {},
   "outputs": [],
   "source": [
    "# Menyamakan terlebih dahulu tanda pemisah tanggal, bulan, dan tahun agar dapat diubah tipe datanya\n",
    "data['date'] = data['date'].str.replace('-', '/')"
   ]
  },
  {
   "cell_type": "code",
   "execution_count": 126,
   "metadata": {},
   "outputs": [
    {
     "data": {
      "text/html": [
       "<div>\n",
       "<style scoped>\n",
       "    .dataframe tbody tr th:only-of-type {\n",
       "        vertical-align: middle;\n",
       "    }\n",
       "\n",
       "    .dataframe tbody tr th {\n",
       "        vertical-align: top;\n",
       "    }\n",
       "\n",
       "    .dataframe thead th {\n",
       "        text-align: right;\n",
       "    }\n",
       "</style>\n",
       "<table border=\"1\" class=\"dataframe\">\n",
       "  <thead>\n",
       "    <tr style=\"text-align: right;\">\n",
       "      <th></th>\n",
       "      <th>order_id</th>\n",
       "      <th>date</th>\n",
       "      <th>item_name</th>\n",
       "      <th>item_type</th>\n",
       "      <th>item_price</th>\n",
       "      <th>quantity</th>\n",
       "      <th>transaction_amount</th>\n",
       "      <th>received_by</th>\n",
       "      <th>time_of_sale</th>\n",
       "    </tr>\n",
       "  </thead>\n",
       "  <tbody>\n",
       "    <tr>\n",
       "      <th>0</th>\n",
       "      <td>1</td>\n",
       "      <td>2022-07-03</td>\n",
       "      <td>Aalopuri</td>\n",
       "      <td>Fastfood</td>\n",
       "      <td>20</td>\n",
       "      <td>13</td>\n",
       "      <td>260</td>\n",
       "      <td>Mr.</td>\n",
       "      <td>Night</td>\n",
       "    </tr>\n",
       "    <tr>\n",
       "      <th>1</th>\n",
       "      <td>2</td>\n",
       "      <td>2022-08-23</td>\n",
       "      <td>Vadapav</td>\n",
       "      <td>Fastfood</td>\n",
       "      <td>20</td>\n",
       "      <td>15</td>\n",
       "      <td>300</td>\n",
       "      <td>Mr.</td>\n",
       "      <td>Afternoon</td>\n",
       "    </tr>\n",
       "    <tr>\n",
       "      <th>2</th>\n",
       "      <td>3</td>\n",
       "      <td>2022-11-20</td>\n",
       "      <td>Vadapav</td>\n",
       "      <td>Fastfood</td>\n",
       "      <td>20</td>\n",
       "      <td>1</td>\n",
       "      <td>20</td>\n",
       "      <td>Mr.</td>\n",
       "      <td>Afternoon</td>\n",
       "    </tr>\n",
       "    <tr>\n",
       "      <th>3</th>\n",
       "      <td>4</td>\n",
       "      <td>2023-02-03</td>\n",
       "      <td>Sugarcane juice</td>\n",
       "      <td>Beverages</td>\n",
       "      <td>25</td>\n",
       "      <td>6</td>\n",
       "      <td>150</td>\n",
       "      <td>Mr.</td>\n",
       "      <td>Night</td>\n",
       "    </tr>\n",
       "    <tr>\n",
       "      <th>4</th>\n",
       "      <td>5</td>\n",
       "      <td>2022-10-02</td>\n",
       "      <td>Sugarcane juice</td>\n",
       "      <td>Beverages</td>\n",
       "      <td>25</td>\n",
       "      <td>8</td>\n",
       "      <td>200</td>\n",
       "      <td>Mr.</td>\n",
       "      <td>Evening</td>\n",
       "    </tr>\n",
       "    <tr>\n",
       "      <th>...</th>\n",
       "      <td>...</td>\n",
       "      <td>...</td>\n",
       "      <td>...</td>\n",
       "      <td>...</td>\n",
       "      <td>...</td>\n",
       "      <td>...</td>\n",
       "      <td>...</td>\n",
       "      <td>...</td>\n",
       "      <td>...</td>\n",
       "    </tr>\n",
       "    <tr>\n",
       "      <th>995</th>\n",
       "      <td>996</td>\n",
       "      <td>2023-03-19</td>\n",
       "      <td>Frankie</td>\n",
       "      <td>Fastfood</td>\n",
       "      <td>50</td>\n",
       "      <td>10</td>\n",
       "      <td>500</td>\n",
       "      <td>Mrs.</td>\n",
       "      <td>Evening</td>\n",
       "    </tr>\n",
       "    <tr>\n",
       "      <th>996</th>\n",
       "      <td>997</td>\n",
       "      <td>2022-09-20</td>\n",
       "      <td>Sandwich</td>\n",
       "      <td>Fastfood</td>\n",
       "      <td>60</td>\n",
       "      <td>7</td>\n",
       "      <td>420</td>\n",
       "      <td>Mr.</td>\n",
       "      <td>Evening</td>\n",
       "    </tr>\n",
       "    <tr>\n",
       "      <th>997</th>\n",
       "      <td>998</td>\n",
       "      <td>2023-01-26</td>\n",
       "      <td>Sandwich</td>\n",
       "      <td>Fastfood</td>\n",
       "      <td>60</td>\n",
       "      <td>13</td>\n",
       "      <td>780</td>\n",
       "      <td>Mr.</td>\n",
       "      <td>Evening</td>\n",
       "    </tr>\n",
       "    <tr>\n",
       "      <th>998</th>\n",
       "      <td>999</td>\n",
       "      <td>2022-08-27</td>\n",
       "      <td>Panipuri</td>\n",
       "      <td>Fastfood</td>\n",
       "      <td>20</td>\n",
       "      <td>5</td>\n",
       "      <td>100</td>\n",
       "      <td>Mrs.</td>\n",
       "      <td>Afternoon</td>\n",
       "    </tr>\n",
       "    <tr>\n",
       "      <th>999</th>\n",
       "      <td>1000</td>\n",
       "      <td>2022-05-29</td>\n",
       "      <td>Aalopuri</td>\n",
       "      <td>Fastfood</td>\n",
       "      <td>20</td>\n",
       "      <td>3</td>\n",
       "      <td>60</td>\n",
       "      <td>Mrs.</td>\n",
       "      <td>Midnight</td>\n",
       "    </tr>\n",
       "  </tbody>\n",
       "</table>\n",
       "<p>1000 rows × 9 columns</p>\n",
       "</div>"
      ],
      "text/plain": [
       "     order_id       date        item_name  item_type  item_price  quantity  \\\n",
       "0           1 2022-07-03         Aalopuri   Fastfood          20        13   \n",
       "1           2 2022-08-23          Vadapav   Fastfood          20        15   \n",
       "2           3 2022-11-20          Vadapav   Fastfood          20         1   \n",
       "3           4 2023-02-03  Sugarcane juice  Beverages          25         6   \n",
       "4           5 2022-10-02  Sugarcane juice  Beverages          25         8   \n",
       "..        ...        ...              ...        ...         ...       ...   \n",
       "995       996 2023-03-19          Frankie   Fastfood          50        10   \n",
       "996       997 2022-09-20         Sandwich   Fastfood          60         7   \n",
       "997       998 2023-01-26         Sandwich   Fastfood          60        13   \n",
       "998       999 2022-08-27         Panipuri   Fastfood          20         5   \n",
       "999      1000 2022-05-29         Aalopuri   Fastfood          20         3   \n",
       "\n",
       "     transaction_amount received_by time_of_sale  \n",
       "0                   260         Mr.        Night  \n",
       "1                   300         Mr.    Afternoon  \n",
       "2                    20         Mr.    Afternoon  \n",
       "3                   150         Mr.        Night  \n",
       "4                   200         Mr.      Evening  \n",
       "..                  ...         ...          ...  \n",
       "995                 500        Mrs.      Evening  \n",
       "996                 420         Mr.      Evening  \n",
       "997                 780         Mr.      Evening  \n",
       "998                 100        Mrs.    Afternoon  \n",
       "999                  60        Mrs.     Midnight  \n",
       "\n",
       "[1000 rows x 9 columns]"
      ]
     },
     "execution_count": 126,
     "metadata": {},
     "output_type": "execute_result"
    }
   ],
   "source": [
    "# Mengubah format tanggal dalam satu kolom dan sekligus mengubah tipe datanya menjadi datetime\n",
    "data['date'] = pd.to_datetime(data['date'])\n",
    "data"
   ]
  },
  {
   "cell_type": "code",
   "execution_count": 127,
   "metadata": {},
   "outputs": [
    {
     "data": {
      "text/plain": [
       "0"
      ]
     },
     "execution_count": 127,
     "metadata": {},
     "output_type": "execute_result"
    }
   ],
   "source": [
    "# Melakukan pengecekan data terduplikat\n",
    "data.duplicated().sum()  "
   ]
  },
  {
   "cell_type": "code",
   "execution_count": 128,
   "metadata": {},
   "outputs": [
    {
     "data": {
      "text/plain": [
       "order_id              0\n",
       "date                  0\n",
       "item_name             0\n",
       "item_type             0\n",
       "item_price            0\n",
       "quantity              0\n",
       "transaction_amount    0\n",
       "received_by           0\n",
       "time_of_sale          0\n",
       "dtype: int64"
      ]
     },
     "execution_count": 128,
     "metadata": {},
     "output_type": "execute_result"
    }
   ],
   "source": [
    "# Melakukan pengecekan apakan ada value di kolom ada null/none\n",
    "data.isnull().sum()"
   ]
  },
  {
   "cell_type": "code",
   "execution_count": 129,
   "metadata": {},
   "outputs": [
    {
     "name": "stdout",
     "output_type": "stream",
     "text": [
      "<class 'pandas.core.frame.DataFrame'>\n",
      "RangeIndex: 1000 entries, 0 to 999\n",
      "Data columns (total 9 columns):\n",
      " #   Column              Non-Null Count  Dtype         \n",
      "---  ------              --------------  -----         \n",
      " 0   order_id            1000 non-null   int64         \n",
      " 1   date                1000 non-null   datetime64[ns]\n",
      " 2   item_name           1000 non-null   object        \n",
      " 3   item_type           1000 non-null   object        \n",
      " 4   item_price          1000 non-null   int64         \n",
      " 5   quantity            1000 non-null   int64         \n",
      " 6   transaction_amount  1000 non-null   int64         \n",
      " 7   received_by         1000 non-null   object        \n",
      " 8   time_of_sale        1000 non-null   object        \n",
      "dtypes: datetime64[ns](1), int64(4), object(4)\n",
      "memory usage: 70.4+ KB\n"
     ]
    }
   ],
   "source": [
    "# Melihat kembali apakah masih terdapat null/none dan tipe data apakah sudah sesuai\n",
    "data.info()"
   ]
  },
  {
   "cell_type": "markdown",
   "metadata": {},
   "source": [
    "# Analisis dan Perhitungan"
   ]
  },
  {
   "cell_type": "code",
   "execution_count": 130,
   "metadata": {},
   "outputs": [
    {
     "data": {
      "text/plain": [
       "'\\n=================================================\\nMilestone 1\\n\\nNama  : Fadhilah\\nBatch : HCK-13\\n\\nProgram ini dibuat untuk melakukan analisis dan perhitungan, dimana analisis datanya nanti divisualisasikan dan perhitungan pada statistik deskriptif dan statistik inferensial\\n=================================================\\n'"
      ]
     },
     "execution_count": 130,
     "metadata": {},
     "output_type": "execute_result"
    }
   ],
   "source": [
    "'''\n",
    "=================================================\n",
    "Milestone 1\n",
    "\n",
    "Nama  : Fadhilah\n",
    "Batch : HCK-13\n",
    "\n",
    "Program ini dibuat untuk melakukan analisis dan perhitungan, dimana analisis datanya nanti divisualisasikan dan perhitungan pada statistik deskriptif dan statistik inferensial\n",
    "=================================================\n",
    "'''"
   ]
  },
  {
   "cell_type": "markdown",
   "metadata": {},
   "source": [
    "## Data Visualisasi"
   ]
  },
  {
   "cell_type": "markdown",
   "metadata": {},
   "source": [
    "### 1. Menu manakah paling banyak terjual?  "
   ]
  },
  {
   "cell_type": "code",
   "execution_count": 131,
   "metadata": {},
   "outputs": [
    {
     "data": {
      "text/plain": [
       "item_name\n",
       "Aalopuri           1044\n",
       "Cold coffee        1361\n",
       "Frankie            1150\n",
       "Panipuri           1226\n",
       "Sandwich           1097\n",
       "Sugarcane juice    1278\n",
       "Vadapav            1006\n",
       "Name: quantity, dtype: int64"
      ]
     },
     "execution_count": 131,
     "metadata": {},
     "output_type": "execute_result"
    }
   ],
   "source": [
    "# Melihat jumlah tiap menu yang terjual\n",
    "Menu_freq = data.groupby('item_name')['quantity'].sum()\n",
    "Menu_freq"
   ]
  },
  {
   "cell_type": "code",
   "execution_count": 132,
   "metadata": {},
   "outputs": [
    {
     "data": {
      "text/plain": [
       "<Axes: ylabel='item_name'>"
      ]
     },
     "execution_count": 132,
     "metadata": {},
     "output_type": "execute_result"
    },
    {
     "data": {
      "image/png": "[encoded data removed]",
      "text/plain": [
       "<Figure size 640x480 with 1 Axes>"
      ]
     },
     "metadata": {},
     "output_type": "display_data"
    }
   ],
   "source": [
    "# Menampilkan jumlah tiap menu yang terjual menggunakan bar H\n",
    "Menu_freq.plot(kind='barh')"
   ]
  },
  {
   "cell_type": "markdown",
   "metadata": {},
   "source": [
    "Insight : Menurut Chart Bar H di atas diketahui penjualan Cold coffe paling banyak dan Vadapav paling sedikit, sehingga terjawab dari pejabaran masalah bahwasanya item menu yang paling banyak terjual yaitu Cold coffe. selain itu, manager dapat mengambil langkah untuk memodifikasi menu cold coffe lebih variatif dengan membedakan harga sesuai dengan cupnya seperti small, medium, dan large. Oleh karena itu, manager dapat memaksimalkan take profit dari penjualan menu Cold coffe"
   ]
  },
  {
   "cell_type": "markdown",
   "metadata": {},
   "source": [
    "### 2. Kapan transaksi sering terjadi?"
   ]
  },
  {
   "cell_type": "code",
   "execution_count": 133,
   "metadata": {},
   "outputs": [
    {
     "data": {
      "text/plain": [
       "time_of_sale\n",
       "Night        205\n",
       "Afternoon    205\n",
       "Evening      201\n",
       "Midnight     199\n",
       "Morning      190\n",
       "Name: count, dtype: int64"
      ]
     },
     "execution_count": 133,
     "metadata": {},
     "output_type": "execute_result"
    }
   ],
   "source": [
    "# Mengetahui banyak transaksi berdasarkan waktu pengunjung\n",
    "time_of_sale_freq = data['time_of_sale'].value_counts()\n",
    "time_of_sale_freq"
   ]
  },
  {
   "cell_type": "code",
   "execution_count": 134,
   "metadata": {},
   "outputs": [
    {
     "data": {
      "image/png": "[encoded data removed]",
      "text/plain": [
       "<Figure size 600x600 with 1 Axes>"
      ]
     },
     "metadata": {},
     "output_type": "display_data"
    }
   ],
   "source": [
    "# Menampilkan banyak transaksi berdasarkan waktu pengunjung menggunakan pie chart\n",
    "fig,ax1 = plt.subplots(figsize=(6,6))\n",
    "\n",
    "data['time_of_sale'].value_counts().plot(kind='pie', autopct='%.2f%%',ax=ax1)\n",
    "plt.show()"
   ]
  },
  {
   "cell_type": "markdown",
   "metadata": {},
   "source": [
    "Insight : Dari pie chart diatas dapat disimpulkan bahwa transakti terjadi saat Night dan Afternoon masing-masingnya memiliki persentase sebesar 20,50% dan persentase terkecil 19.00%, sehingga untuk menjawab penjabaran masalah no 2 yaitu Night dan Afternoon. Sehingga manager dapat melakukan promosi buy 1 get 1 saat pagi (19%) karena transaksi minim terjadi saat pagi"
   ]
  },
  {
   "cell_type": "markdown",
   "metadata": {},
   "source": [
    "### 3. Berapa rata-rata peghasilan terbesar berdasarkan waktu pengunjung dan tipe item?"
   ]
  },
  {
   "cell_type": "code",
   "execution_count": 135,
   "metadata": {},
   "outputs": [
    {
     "data": {
      "text/plain": [
       "time_of_sale  item_type\n",
       "Afternoon     Beverages    288.066667\n",
       "              Fastfood     267.230769\n",
       "Evening       Beverages    265.725806\n",
       "              Fastfood     258.129496\n",
       "Midnight      Beverages    260.092593\n",
       "              Fastfood     252.965517\n",
       "Morning       Beverages    291.754386\n",
       "              Fastfood     278.947368\n",
       "Night         Beverages    267.196970\n",
       "              Fastfood     319.712230\n",
       "Name: transaction_amount, dtype: float64"
      ]
     },
     "execution_count": 135,
     "metadata": {},
     "output_type": "execute_result"
    }
   ],
   "source": [
    "# Mengetahui rata-rata hasil pendapatan berdasarkan waktu pengunjung \n",
    "data.groupby(['time_of_sale','item_type'])['transaction_amount'].mean()"
   ]
  },
  {
   "cell_type": "code",
   "execution_count": 136,
   "metadata": {},
   "outputs": [
    {
     "data": {
      "text/plain": [
       "<Axes: xlabel='time_of_sale'>"
      ]
     },
     "execution_count": 136,
     "metadata": {},
     "output_type": "execute_result"
    },
    {
     "data": {
      "image/png": "[encoded data removed]",
      "text/plain": [
       "<Figure size 640x480 with 1 Axes>"
      ]
     },
     "metadata": {},
     "output_type": "display_data"
    }
   ],
   "source": [
    "# Menampilkan rata-rata hasil pendapatan berdasarkan waktu pengunjung berdasarkan multi category chart\n",
    "data.groupby(['time_of_sale','item_type'])['transaction_amount'].mean().unstack().plot(kind='bar', rot = 0)"
   ]
  },
  {
   "cell_type": "markdown",
   "metadata": {},
   "source": [
    "Insight : Berdasarkan rata-rata penghasilan tiap menunya ditemukan paling banyak dari Fastfood di Malam hari dan ditemukan paling sedikit pada petang (evening) yaitu Fastfood. sehingga manager dapat melakukan promosi diskon harga untuk fastfood berlaku hanya dari jam 5 hingga jam 6 (rush hour) untuk meningkatkan profit"
   ]
  },
  {
   "cell_type": "markdown",
   "metadata": {},
   "source": [
    "### 4. Gender manakah yang paling sedikit kuantitas pembeliannya berdasarkan waktu pengunjungnya?"
   ]
  },
  {
   "cell_type": "code",
   "execution_count": 145,
   "metadata": {},
   "outputs": [
    {
     "data": {
      "text/html": [
       "<div>\n",
       "<style scoped>\n",
       "    .dataframe tbody tr th:only-of-type {\n",
       "        vertical-align: middle;\n",
       "    }\n",
       "\n",
       "    .dataframe tbody tr th {\n",
       "        vertical-align: top;\n",
       "    }\n",
       "\n",
       "    .dataframe thead th {\n",
       "        text-align: right;\n",
       "    }\n",
       "</style>\n",
       "<table border=\"1\" class=\"dataframe\">\n",
       "  <thead>\n",
       "    <tr style=\"text-align: right;\">\n",
       "      <th></th>\n",
       "      <th>received_by</th>\n",
       "      <th>time_of_sale</th>\n",
       "      <th>quantity</th>\n",
       "    </tr>\n",
       "  </thead>\n",
       "  <tbody>\n",
       "    <tr>\n",
       "      <th>0</th>\n",
       "      <td>Mr.</td>\n",
       "      <td>Afternoon</td>\n",
       "      <td>967</td>\n",
       "    </tr>\n",
       "    <tr>\n",
       "      <th>1</th>\n",
       "      <td>Mr.</td>\n",
       "      <td>Evening</td>\n",
       "      <td>838</td>\n",
       "    </tr>\n",
       "    <tr>\n",
       "      <th>2</th>\n",
       "      <td>Mr.</td>\n",
       "      <td>Midnight</td>\n",
       "      <td>698</td>\n",
       "    </tr>\n",
       "    <tr>\n",
       "      <th>3</th>\n",
       "      <td>Mr.</td>\n",
       "      <td>Morning</td>\n",
       "      <td>822</td>\n",
       "    </tr>\n",
       "    <tr>\n",
       "      <th>4</th>\n",
       "      <td>Mr.</td>\n",
       "      <td>Night</td>\n",
       "      <td>943</td>\n",
       "    </tr>\n",
       "    <tr>\n",
       "      <th>5</th>\n",
       "      <td>Mrs.</td>\n",
       "      <td>Afternoon</td>\n",
       "      <td>747</td>\n",
       "    </tr>\n",
       "    <tr>\n",
       "      <th>6</th>\n",
       "      <td>Mrs.</td>\n",
       "      <td>Evening</td>\n",
       "      <td>702</td>\n",
       "    </tr>\n",
       "    <tr>\n",
       "      <th>7</th>\n",
       "      <td>Mrs.</td>\n",
       "      <td>Midnight</td>\n",
       "      <td>877</td>\n",
       "    </tr>\n",
       "    <tr>\n",
       "      <th>8</th>\n",
       "      <td>Mrs.</td>\n",
       "      <td>Morning</td>\n",
       "      <td>752</td>\n",
       "    </tr>\n",
       "    <tr>\n",
       "      <th>9</th>\n",
       "      <td>Mrs.</td>\n",
       "      <td>Night</td>\n",
       "      <td>816</td>\n",
       "    </tr>\n",
       "  </tbody>\n",
       "</table>\n",
       "</div>"
      ],
      "text/plain": [
       "  received_by time_of_sale  quantity\n",
       "0         Mr.    Afternoon       967\n",
       "1         Mr.      Evening       838\n",
       "2         Mr.     Midnight       698\n",
       "3         Mr.      Morning       822\n",
       "4         Mr.        Night       943\n",
       "5        Mrs.    Afternoon       747\n",
       "6        Mrs.      Evening       702\n",
       "7        Mrs.     Midnight       877\n",
       "8        Mrs.      Morning       752\n",
       "9        Mrs.        Night       816"
      ]
     },
     "execution_count": 145,
     "metadata": {},
     "output_type": "execute_result"
    }
   ],
   "source": [
    "# Menghitung jumlah pembelian dari kuantitas berdasarkan waktu pengunjung dan gender\n",
    "data.groupby(['received_by','time_of_sale'])['quantity'].sum().reset_index()"
   ]
  },
  {
   "cell_type": "code",
   "execution_count": 144,
   "metadata": {},
   "outputs": [
    {
     "data": {
      "image/png": "[encoded data removed]",
      "text/plain": [
       "<Figure size 640x480 with 1 Axes>"
      ]
     },
     "metadata": {},
     "output_type": "display_data"
    }
   ],
   "source": [
    "# Menampilkan jumlah pembelian dari kuantitas berdasarkan waktu pengunjung dan gender\n",
    "A = data.groupby(['received_by','time_of_sale'])['quantity'].sum().reset_index()\n",
    "\n",
    "sns.barplot(data=A, x='received_by', y='quantity', orient='v', hue='time_of_sale')\n",
    "plt.legend(bbox_to_anchor=(1,1))\n",
    "plt.show()"
   ]
  },
  {
   "cell_type": "markdown",
   "metadata": {},
   "source": [
    "Insight : Berdasarkan chart multi category diketahui kuantitas pembelian berdasarkan gender dan waktu pengunjung ditemukan yang paling sedikit yaitu laki-laki pada tengah malam (midnight) padahal perempuan cukup banyak pada tengah malam , sehingga manager dapat membuat promosi jika pelanggan membawa pasangan mendapatkan diskon belanja jika lebih dari 3 menu"
   ]
  },
  {
   "cell_type": "markdown",
   "metadata": {},
   "source": [
    "### 5. Apakah konsumen lebih menyukai produk murah?"
   ]
  },
  {
   "cell_type": "markdown",
   "metadata": {},
   "source": [
    "#### Statistik Descritive = Menggunakan Correlation Analysis : Kendall"
   ]
  },
  {
   "cell_type": "markdown",
   "metadata": {},
   "source": [
    "Apakah konsumen lebih menyukai produk murah?"
   ]
  },
  {
   "cell_type": "code",
   "execution_count": 146,
   "metadata": {},
   "outputs": [
    {
     "name": "stdout",
     "output_type": "stream",
     "text": [
      "\n",
      "skewness harga : 0.6250044803515558\n",
      "kurtosis harga : -1.173262217524134\n",
      "\n",
      "skewness quantity: -0.05129947454908782\n",
      "kurtosis quantity: -1.2416861155903576\n",
      "\n",
      "skewness transaction_amount: 0.6554065709917558\n",
      "kurtosis transaction_amount: 0.6554065709917558\n"
     ]
    }
   ],
   "source": [
    "# Menghitung skewness dan kurtosis untuk mengetahui apakah data terdistribusi normal atau tidak\n",
    "print()\n",
    "print(f\"skewness harga : {data['item_price'].skew()}\")\n",
    "print(f\"kurtosis harga : {data['item_price'].kurtosis()}\")\n",
    "print()\n",
    "print(f\"skewness quantity: {data['quantity'].skew()}\")\n",
    "print(f\"kurtosis quantity: {data['quantity'].kurtosis()}\")\n",
    "print()\n",
    "print(f\"skewness transaction_amount: {data['transaction_amount'].kurtosis()}\")\n",
    "print(f\"kurtosis transaction_amount: {data['transaction_amount'].kurtosis()}\")\n"
   ]
  },
  {
   "cell_type": "markdown",
   "metadata": {},
   "source": [
    "Insight : Skewness secara keseluruhan mendapatkan nilai tidak sama dengan 0 sehingga dapat dikatakan kurva yang didapatkan tidak simetris dan dinyatakan tidak terdistribusi normal, \n",
    "skewness pada item_price dan transaction_amount yaitu positif, dimana ekor nya kekanan dan nilai tinggi berada sebelah kiri. Sedangkan nilai skewness pada quantity yaitu negatif, menyatakan ekor nya kekiri dan nilai tinggi berada sebelah kanan. Begitu pun menggunakan metode kurtosis dimana nilai secara keseluruhan tidak sama dengan 0 berarti dapat dikatakan data tidak terdistribusi normal, pada item_price dan quantity memiliki nilai kurang dari 0 dan dapat dikatakan Platykurtic dimana memiliki ekor yang lebih ringan dan puncak yang lebih rendah , sedangkan pada transaction_amount memiliki nilai lebih dari 0 dapat dikatakan Leptokurtic dimana memiliki ekor yang lebih berat dan puncak yang lebih tinggi."
   ]
  },
  {
   "cell_type": "code",
   "execution_count": null,
   "metadata": {},
   "outputs": [
    {
     "name": "stdout",
     "output_type": "stream",
     "text": [
      "Kendall Tau: 0.6\n",
      "P-value: 0.23333333333333334\n",
      "Gagal ditolak H0: Tidak terdapat hubungan signifikan antara harga produk dan jumlah kuantitas yang dibeli oleh konsumen.\n"
     ]
    }
   ],
   "source": [
    "from scipy.stats import kendalltau\n",
    "\n",
    "# Menyimpan hasil dalam dataframe (temp) dimana hasilnya tersebut dari pengelompokan item_price dan quantity yang sudah di rata-rata kan\n",
    "temp = data.groupby('item_price')[['quantity']].mean().reset_index()\n",
    "\n",
    "# Menghitung koefisien korelasi Tau Kendall\n",
    "kendall_tau, p_value = kendalltau(temp['item_price'], temp['quantity'])\n",
    "\n",
    "print('Kendall Tau:', kendall_tau)\n",
    "print('P-value:', p_value)\n",
    "\n",
    "\n",
    "# Membandingkan p-value dengan tingkat signifikansi\n",
    "alpha = 0.05\n",
    "if p_val < alpha:\n",
    "    print(\"Tolak H0: Terdapat hubungan signifikan antara harga produk dan jumlah kuantitas yang dibeli oleh konsumen.\")\n",
    "else:\n",
    "    print(\"Gagal ditolak H0: Tidak terdapat hubungan signifikan antara harga produk dan jumlah kuantitas yang dibeli oleh konsumen.\")"
   ]
  },
  {
   "cell_type": "markdown",
   "metadata": {},
   "source": [
    "Insight: Diketahui nilai kendall tau didapatkan sebesar 0,6 dimana nilai tersebut menunjukan ada hubungan monotik positif antara harga produk dan jumlah kuantitas yang dibeli, akan tetapi p-value yang lebih rendah dari tingkat signifikannya (0,05) menunjukan bahwa hubungan tersebut tidak signifikan, dan gagal menolak H0. Sehingga dapat dikatakan pernyataan konsumen lebih menyukai produk murah yaitu salah, hal ini berguna untuk menjawab penjabaran masalah no.5"
   ]
  },
  {
   "cell_type": "markdown",
   "metadata": {},
   "source": [
    "### 6. Apakah ada perbedaan tipe item makanan berdasarkan banyak terjualnya?"
   ]
  },
  {
   "cell_type": "markdown",
   "metadata": {},
   "source": [
    "#### Statistik Inferential = Menggunakan Two Sample : Uji T Independent"
   ]
  },
  {
   "cell_type": "markdown",
   "metadata": {},
   "source": [
    "Apakah ada perbedaan tipe item makanan berdasarkan banyak terjualnya?"
   ]
  },
  {
   "cell_type": "code",
   "execution_count": null,
   "metadata": {},
   "outputs": [],
   "source": [
    "from scipy import stats"
   ]
  },
  {
   "cell_type": "code",
   "execution_count": null,
   "metadata": {},
   "outputs": [
    {
     "name": "stdout",
     "output_type": "stream",
     "text": [
      "T-statistic: -1.1757\n",
      "P-value: 0.2400\n",
      "Gagal ditolak H0: Tidak terdapat perbedaan signifikan antara tipe item dan kuantitas.\n"
     ]
    }
   ],
   "source": [
    "# Memisahkan tipe item makanan fastfood dan beverges untuk masing masing kuantitasnya\n",
    "item_Fastfood = data[data['item_type'] == 'Fastfood']['quantity']\n",
    "item_Beverage = data[data['item_type'] == 'Beverages']['quantity']\n",
    "\n",
    "# Uji hipotesis menggunakan uji T\n",
    "t_statistic, p_value = stats.ttest_ind(item_Fastfood, item_Beverage)\n",
    "\n",
    "# Membandingkan p-value dengan tingkat signifikansi\n",
    "alpha = 0.05\n",
    "print(f\"T-statistic: {t_statistic:.4f}\")\n",
    "print(f\"P-value: {p_value:.4f}\")\n",
    "if p_value < alpha:\n",
    "    print(\"Tolak H0: Terdapat perbedaan signifikan antara tipe item dan kuantitas.\")\n",
    "else:\n",
    "    print(\"Gagal ditolak H0: Tidak terdapat perbedaan signifikan antara tipe item dan kuantitas.\")"
   ]
  },
  {
   "cell_type": "markdown",
   "metadata": {},
   "source": [
    "Insight : Diketahui nilai p-value lebih tinggi dari tingkat signifikan (0,05) sehingga H0 gagal ditolak dan dinyatakan tidak ada perbedaan signifikan antara tipe item ddan kuantitas, dan nilai t-statistik sebesar -1,175 mengambarkan arah pengaruhnya. Jadi untuk menjawab penjabaran masalah no.6 yaitu tidak ada, karena tidak ada perbedaan jumlah orang membeli makan dan jumlah orang membeli minuman"
   ]
  },
  {
   "cell_type": "markdown",
   "metadata": {},
   "source": [
    "# Pengambilan Kesimpulan"
   ]
  },
  {
   "cell_type": "markdown",
   "metadata": {},
   "source": [
    "Kesimpulan yang dapat ditarik dari hasil penjabaran masalah diatas adalah untuk memaksimalkan take profit dapat dilakukan dari menu Cold Coffe dari menu yang paling banyak terjual dan diketahui juga waktu sepi pengunjung yaitu pagi dan menu yang paling sedikit terjual yaitu Vandapav, maka manager perusahaan dapat membuat promosi untuk di pagi hari pada menu vandapav seperti buy 1 get 1, dan seperti halnya jika dibandingkan dengan gender jadi ditengah malam wanita lebih mendominasi daripada laki laki berdasarkan kuantitas pembeliannya, maka manager juga dapat membuat promosi jika membawa pasangan dan membeli 3 item atau lebih dapat diskon pada sekali transaksi"
   ]
  }
 ],
 "metadata": {
  "kernelspec": {
   "display_name": "Hacktiv8",
   "language": "python",
   "name": "python3"
  },
  "language_info": {
   "codemirror_mode": {
    "name": "ipython",
    "version": 3
   },
   "file_extension": ".py",
   "mimetype": "text/x-python",
   "name": "python",
   "nbconvert_exporter": "python",
   "pygments_lexer": "ipython3",
   "version": "3.11.7"
  }
 },
 "nbformat": 4,
 "nbformat_minor": 2
}
